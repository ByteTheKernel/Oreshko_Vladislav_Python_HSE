{
 "cells": [
  {
   "cell_type": "markdown",
   "id": "cd6bb565",
   "metadata": {},
   "source": [
    "## Задание 1\n",
    "\n",
    "Печатные газеты использовали свой формат дат для каждого выпуска.  \n",
    "Для каждой газеты из списка напишите формат указанной даты для перевода в объект `datetime`:\n",
    "\n",
    "- **The Moscow Times** — `Wednesday, October 2, 2002`  \n",
    "- **The Guardian** — `Friday, 11.10.13`  \n",
    "- **Daily News** — `Thursday, 18 August 1977`\n",
    "\n",
    "---\n",
    "\n",
    "### 💡 Пример работы программы\n",
    "\n",
    "Программа должна выводить на экран объекты типа `datetime`, соответствующие датам в условии задачи."
   ]
  },
  {
   "cell_type": "code",
   "execution_count": 3,
   "id": "04159d04",
   "metadata": {},
   "outputs": [],
   "source": [
    "from datetime import datetime"
   ]
  },
  {
   "cell_type": "code",
   "execution_count": 4,
   "id": "85de377d",
   "metadata": {},
   "outputs": [
    {
     "name": "stdout",
     "output_type": "stream",
     "text": [
      "The Moscow Times: 2002-10-02 00:00:00\n",
      "The Guardian: 2013-10-11 00:00:00\n",
      "Daily News: 1977-08-18 00:00:00\n"
     ]
    }
   ],
   "source": [
    "# Исходные даты\n",
    "dates = {\n",
    "    \"The Moscow Times\": \"Wednesday, October 2, 2002\",\n",
    "    \"The Guardian\": \"Friday, 11.10.13\",\n",
    "    \"Daily News\": \"Thursday, 18 August 1977\"\n",
    "}\n",
    "\n",
    "# Форматы дат для каждой газеты\n",
    "formats = {\n",
    "    \"The Moscow Times\": \"%A, %B %d, %Y\",\n",
    "    \"The Guardian\": \"%A, %d.%m.%y\",\n",
    "    \"Daily News\": \"%A, %d %B %Y\"\n",
    "}\n",
    "\n",
    "# Преобразуем строки в объекты datetime\n",
    "for newspaper, date_str in dates.items():\n",
    "    date_obj = datetime.strptime(date_str, formats[newspaper])\n",
    "    print(f\"{newspaper}: {date_obj}\")"
   ]
  },
  {
   "cell_type": "markdown",
   "id": "409b4448",
   "metadata": {},
   "source": [
    "## Задание 2 (необязательное)\n",
    "\n",
    "Напишите функцию `date_range`, которая возвращает список дат за период от `start_date` до `end_date`.  \n",
    "Даты должны вводиться в формате **`YYYY-MM-DD`**.  \n",
    "\n",
    "В случае:\n",
    "- неверного формата даты,  \n",
    "- или если `start_date > end_date`,  \n",
    "\n",
    "функция должна возвращать **пустой список**.\n",
    "\n",
    "---\n",
    "\n",
    "### 💡 Примеры работы программы\n",
    "\n",
    "```python\n",
    "date_range('2022-01-01', '2022-01-03')\n",
    "['2022-01-01', '2022-01-02', '2022-01-03']"
   ]
  },
  {
   "cell_type": "code",
   "execution_count": 6,
   "id": "fd6b6e79",
   "metadata": {},
   "outputs": [],
   "source": [
    "from datetime import datetime, timedelta\n",
    "from typing import List"
   ]
  },
  {
   "cell_type": "code",
   "execution_count": 8,
   "id": "bd07d32b",
   "metadata": {},
   "outputs": [],
   "source": [
    "def date_range(start_date: str, end_date: str) -> List[str]:\n",
    "    try:\n",
    "        start: datetime = datetime.strptime(start_date, '%Y-%m-%d')\n",
    "        end: datetime = datetime.strptime(end_date, '%Y-%m-%d')\n",
    "        \n",
    "        if start > end:\n",
    "            return []\n",
    "        \n",
    "        date_list: List[str] = [\n",
    "            (start + timedelta(days=i)).strftime('%Y-%m-%d')\n",
    "            for i in range ((end - start).days + 1)\n",
    "        ]\n",
    "        return date_list\n",
    "\n",
    "    except ValueError:\n",
    "        return []"
   ]
  },
  {
   "cell_type": "code",
   "execution_count": 9,
   "id": "78ca0c4e",
   "metadata": {},
   "outputs": [
    {
     "name": "stdout",
     "output_type": "stream",
     "text": [
      "['2022-01-01', '2022-01-02', '2022-01-03']\n"
     ]
    }
   ],
   "source": [
    "print(date_range('2022-01-01', '2022-01-03'))"
   ]
  },
  {
   "cell_type": "code",
   "execution_count": 10,
   "id": "b9d17c7a",
   "metadata": {},
   "outputs": [
    {
     "name": "stdout",
     "output_type": "stream",
     "text": [
      "[]\n"
     ]
    }
   ],
   "source": [
    "print(date_range('2022-01-03', '2022-01-01'))"
   ]
  },
  {
   "cell_type": "code",
   "execution_count": 11,
   "id": "f34a7341",
   "metadata": {},
   "outputs": [
    {
     "name": "stdout",
     "output_type": "stream",
     "text": [
      "[]\n"
     ]
    }
   ],
   "source": [
    "print(date_range('2022-02-30', '2022-02-31'))"
   ]
  }
 ],
 "metadata": {
  "kernelspec": {
   "display_name": ".venv",
   "language": "python",
   "name": "python3"
  },
  "language_info": {
   "codemirror_mode": {
    "name": "ipython",
    "version": 3
   },
   "file_extension": ".py",
   "mimetype": "text/x-python",
   "name": "python",
   "nbconvert_exporter": "python",
   "pygments_lexer": "ipython3",
   "version": "3.14.0"
  }
 },
 "nbformat": 4,
 "nbformat_minor": 5
}
