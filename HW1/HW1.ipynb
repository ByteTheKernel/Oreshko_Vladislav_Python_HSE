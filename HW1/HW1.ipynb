{
 "cells": [
  {
   "cell_type": "markdown",
   "id": "29539c44",
   "metadata": {},
   "source": [
    "## Задание 1\n",
    "\n",
    "Переведите содержимое файла `purchase_log.txt` в словарь `purchases` вида:\n",
    "\n",
    "```python\n",
    "{\n",
    "    '1840e0b9d4': 'Продукты',\n",
    "    '4e4f90fcfb': 'Электроника',\n",
    "    ...\n",
    "}\n"
   ]
  },
  {
   "cell_type": "code",
   "execution_count": 3,
   "id": "57e224c7",
   "metadata": {},
   "outputs": [
    {
     "name": "stdout",
     "output_type": "stream",
     "text": [
      "Всего записей: 99517\n",
      "<class 'dict'>\n"
     ]
    }
   ],
   "source": [
    "import json\n",
    "\n",
    "purchases = {}\n",
    "\n",
    "with open(file=\"files/purchase_log.txt\", encoding=\"utf-8\") as file:\n",
    "   for line in file:\n",
    "       data = json.loads(line.strip())\n",
    "       \n",
    "       # Пропускаем строку с заголовками\n",
    "       if data['user_id'] == \"user_id\":\n",
    "        continue\n",
    "    \n",
    "       purchases[data['user_id']] = data['category']\n",
    "       \n",
    "print(f\"Всего записей: {len(purchases)}\")\n",
    "print(type(purchases))"
   ]
  },
  {
   "cell_type": "code",
   "execution_count": 4,
   "id": "dcfe5742",
   "metadata": {},
   "outputs": [
    {
     "name": "stdout",
     "output_type": "stream",
     "text": [
      "1840e0b9d4 'Продукты'\n",
      "4e4f90fcfb 'Электроника'\n"
     ]
    }
   ],
   "source": [
    "for i, (user_id, category) in enumerate(purchases.items()):\n",
    "    print(f\"{user_id} '{category}'\")\n",
    "    if i == 1:\n",
    "        break"
   ]
  },
  {
   "cell_type": "markdown",
   "id": "9050bd89",
   "metadata": {},
   "source": [
    "# Задание 2 (необязательное)\n",
    "\n",
    "## Условие\n",
    "\n",
    "Для каждого `user_id` в файле **`visit_log.csv`** определите третий столбец с категорией покупки.  \n",
    "Если покупка была, сам файл `visit_log.csv` изменять **не нужно**.\n",
    "\n",
    "Запишите в файл **`funnel.csv`** визиты из файла `visit_log.csv`,  \n",
    "в которых были покупки, с указанием категории.\n",
    "\n",
    "---\n",
    "\n",
    "## Условия для обработки данных\n",
    "\n",
    "- Содержимое файла **`purchase_log.txt`** помещается в оперативную память компьютера.  \n",
    "- Содержимое файла **`visit_log.csv`** не помещается в память, необходимо использовать **построчную обработку** этого файла.\n",
    "\n",
    "---\n",
    "\n",
    "## Пример результата\n",
    "\n",
    "Пример первых трёх строк файла **`funnel.csv`** после выполнения программы:\n",
    "```\n",
    "user_id,source,category\n",
    "1840e0b9d4,other,Продукты\n",
    "4e4f90fcfb,context,Электроника\n",
    "```"
   ]
  },
  {
   "cell_type": "code",
   "execution_count": 6,
   "id": "083bc696",
   "metadata": {},
   "outputs": [
    {
     "name": "stdout",
     "output_type": "stream",
     "text": [
      "Файл funnel.csv успешно создан. Записей: 13742\n"
     ]
    }
   ],
   "source": [
    "import csv\n",
    "\n",
    "with open('files/visit_log.csv', 'r', encoding='utf-8') as f_in,\\\n",
    "     open('files/funnel.csv', 'w', encoding='utf-8', newline='') as f_out:\n",
    "         \n",
    "    reader = csv.DictReader(f_in)\n",
    "    fieldnames = ['user_id', 'source', 'category']\n",
    "    writer = csv.DictWriter(f_out, fieldnames=fieldnames)\n",
    "    writer.writeheader\n",
    "    \n",
    "    count = 0\n",
    "    for row in reader:\n",
    "        user = row['user_id']\n",
    "        if user in purchases:\n",
    "            row['category'] = purchases[user]\n",
    "            writer.writerow(row)\n",
    "            count += 1\n",
    "            \n",
    "print(f\"Файл funnel.csv успешно создан. Записей: {count}\")        "
   ]
  },
  {
   "cell_type": "code",
   "execution_count": 8,
   "id": "8652f280",
   "metadata": {},
   "outputs": [
    {
     "name": "stdout",
     "output_type": "stream",
     "text": [
      "1840e0b9d4,other,Продукты\n",
      "4e4f90fcfb,context,Электроника\n",
      "afea8d72fc,other,Электроника\n",
      "2824221f38,email,Продукты\n",
      "373a6055fe,other,Бытовая техника\n"
     ]
    }
   ],
   "source": [
    "with open('files/funnel.csv', 'r', encoding='utf-8') as f:\n",
    "    for i in range(5):  # выводим первые 5 строк\n",
    "        print(f.readline().strip())"
   ]
  }
 ],
 "metadata": {
  "kernelspec": {
   "display_name": ".venv",
   "language": "python",
   "name": "python3"
  },
  "language_info": {
   "codemirror_mode": {
    "name": "ipython",
    "version": 3
   },
   "file_extension": ".py",
   "mimetype": "text/x-python",
   "name": "python",
   "nbconvert_exporter": "python",
   "pygments_lexer": "ipython3",
   "version": "3.14.0"
  }
 },
 "nbformat": 4,
 "nbformat_minor": 5
}
